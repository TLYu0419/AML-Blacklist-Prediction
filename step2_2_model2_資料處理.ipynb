{
 "cells": [
  {
   "cell_type": "code",
   "execution_count": 1,
   "metadata": {},
   "outputs": [],
   "source": [
    "import pickle\n",
    "import pandas as pd \n",
    "import numpy as np"
   ]
  },
  {
   "cell_type": "markdown",
   "metadata": {},
   "source": [
    "## predict的姓名，依據該姓名去取前後文，並且換成李家賢，加入tags=0/1，端看是否為黑名單"
   ]
  },
  {
   "cell_type": "code",
   "execution_count": 2,
   "metadata": {},
   "outputs": [],
   "source": [
    "unpickled_df = pd.read_pickle(\"step2_1_input_train_full_data.pkl\")# pd.read_pickle(\"train_full_data.pkl\")"
   ]
  },
  {
   "cell_type": "code",
   "execution_count": 3,
   "metadata": {},
   "outputs": [
    {
     "data": {
      "text/html": [
       "<div>\n",
       "<style scoped>\n",
       "    .dataframe tbody tr th:only-of-type {\n",
       "        vertical-align: middle;\n",
       "    }\n",
       "\n",
       "    .dataframe tbody tr th {\n",
       "        vertical-align: top;\n",
       "    }\n",
       "\n",
       "    .dataframe thead th {\n",
       "        text-align: right;\n",
       "    }\n",
       "</style>\n",
       "<table border=\"1\" class=\"dataframe\">\n",
       "  <thead>\n",
       "    <tr style=\"text-align: right;\">\n",
       "      <th></th>\n",
       "      <th>Unnamed: 0</th>\n",
       "      <th>hyperlink</th>\n",
       "      <th>name</th>\n",
       "      <th>article</th>\n",
       "      <th>name_list</th>\n",
       "      <th>article_split</th>\n",
       "      <th>all_name</th>\n",
       "    </tr>\n",
       "  </thead>\n",
       "  <tbody>\n",
       "    <tr>\n",
       "      <th>0</th>\n",
       "      <td>0</td>\n",
       "      <td>https://news.cnyes.com/news/id/4352432</td>\n",
       "      <td>[]</td>\n",
       "      <td>理財基金量化交易追求絕對報酬 有效對抗牛熊市鉅亨網記者 鄭心芸2019/07/05 22:3...</td>\n",
       "      <td>[]</td>\n",
       "      <td>[理財基金量化交易追求絕對報酬 有效對抗牛熊市鉅亨網記者 鄭心芸2019/07/05 22:...</td>\n",
       "      <td>[鄭心芸, 張堯勇, 詹姆斯·西蒙斯, 巴菲特]</td>\n",
       "    </tr>\n",
       "    <tr>\n",
       "      <th>1</th>\n",
       "      <td>1</td>\n",
       "      <td>https://udn.com/news/story/120775/4112519</td>\n",
       "      <td>[]</td>\n",
       "      <td>10月13日晚間發生Uber Eats黃姓外送人員職災死亡案件，北市府勞動局認定業者未依職業...</td>\n",
       "      <td>[]</td>\n",
       "      <td>[10月13日晚間發生Uber Eats黃姓外送人員職災死亡案件，北市府勞動局認定業者未依職...</td>\n",
       "      <td>[賴香伶, 康水順]</td>\n",
       "    </tr>\n",
       "    <tr>\n",
       "      <th>2</th>\n",
       "      <td>2</td>\n",
       "      <td>https://www.mirrormedia.mg/story/20191008soc011/</td>\n",
       "      <td>[]</td>\n",
       "      <td>社會2019.10.08 09:53【法拍有詭4】飯店遭管委會斷水斷電員工怒吼：生計何去何從...</td>\n",
       "      <td>[]</td>\n",
       "      <td>[社會2019.10.08 09:53【法拍有詭4】飯店遭管委會斷水斷電員工怒吼：生計何去何...</td>\n",
       "      <td>[李育材, 德唐, 張慶輝, 君鴻, 凱德唐, 李日順]</td>\n",
       "    </tr>\n",
       "    <tr>\n",
       "      <th>3</th>\n",
       "      <td>3</td>\n",
       "      <td>http://domestic.judicial.gov.tw/abbs/wkw/WHD9H...</td>\n",
       "      <td>[]</td>\n",
       "      <td>例稿名稱：臺灣屏東地方法院公示催告公告發文日期：中華民國108年9月20日發文字號：屏院進家...</td>\n",
       "      <td>[]</td>\n",
       "      <td>[例稿名稱：臺灣屏東地方法院公示催告公告發文日期：中華民國108年9月20日發文字號：屏院進...</td>\n",
       "      <td>[沈君融, 陳世恒]</td>\n",
       "    </tr>\n",
       "    <tr>\n",
       "      <th>4</th>\n",
       "      <td>4</td>\n",
       "      <td>http://www.coolloud.org.tw/node/93356</td>\n",
       "      <td>[]</td>\n",
       "      <td>內政部都市計畫委員會委員為審查大社工業區是否降為乙種工業區，將於8月30日到高雄大社現勘（註...</td>\n",
       "      <td>[]</td>\n",
       "      <td>[內政部都市計畫委員會委員為審查大社工業區是否降為乙種工業區，將於8月30日到高雄大社現勘（...</td>\n",
       "      <td>[張勝富, 黃捷, 韓國瑜, 江炳坤, 王敏玲, 吳忠穎, 陳其邁, 邱花妹, 余陳月英, ...</td>\n",
       "    </tr>\n",
       "  </tbody>\n",
       "</table>\n",
       "</div>"
      ],
      "text/plain": [
       "   Unnamed: 0                                          hyperlink name  \\\n",
       "0           0             https://news.cnyes.com/news/id/4352432   []   \n",
       "1           1          https://udn.com/news/story/120775/4112519   []   \n",
       "2           2   https://www.mirrormedia.mg/story/20191008soc011/   []   \n",
       "3           3  http://domestic.judicial.gov.tw/abbs/wkw/WHD9H...   []   \n",
       "4           4              http://www.coolloud.org.tw/node/93356   []   \n",
       "\n",
       "                                             article name_list  \\\n",
       "0  理財基金量化交易追求絕對報酬 有效對抗牛熊市鉅亨網記者 鄭心芸2019/07/05 22:3...        []   \n",
       "1  10月13日晚間發生Uber Eats黃姓外送人員職災死亡案件，北市府勞動局認定業者未依職業...        []   \n",
       "2  社會2019.10.08 09:53【法拍有詭4】飯店遭管委會斷水斷電員工怒吼：生計何去何從...        []   \n",
       "3  例稿名稱：臺灣屏東地方法院公示催告公告發文日期：中華民國108年9月20日發文字號：屏院進家...        []   \n",
       "4  內政部都市計畫委員會委員為審查大社工業區是否降為乙種工業區，將於8月30日到高雄大社現勘（註...        []   \n",
       "\n",
       "                                       article_split  \\\n",
       "0  [理財基金量化交易追求絕對報酬 有效對抗牛熊市鉅亨網記者 鄭心芸2019/07/05 22:...   \n",
       "1  [10月13日晚間發生Uber Eats黃姓外送人員職災死亡案件，北市府勞動局認定業者未依職...   \n",
       "2  [社會2019.10.08 09:53【法拍有詭4】飯店遭管委會斷水斷電員工怒吼：生計何去何...   \n",
       "3  [例稿名稱：臺灣屏東地方法院公示催告公告發文日期：中華民國108年9月20日發文字號：屏院進...   \n",
       "4  [內政部都市計畫委員會委員為審查大社工業區是否降為乙種工業區，將於8月30日到高雄大社現勘（...   \n",
       "\n",
       "                                            all_name  \n",
       "0                           [鄭心芸, 張堯勇, 詹姆斯·西蒙斯, 巴菲特]  \n",
       "1                                         [賴香伶, 康水順]  \n",
       "2                       [李育材, 德唐, 張慶輝, 君鴻, 凱德唐, 李日順]  \n",
       "3                                         [沈君融, 陳世恒]  \n",
       "4  [張勝富, 黃捷, 韓國瑜, 江炳坤, 王敏玲, 吳忠穎, 陳其邁, 邱花妹, 余陳月英, ...  "
      ]
     },
     "execution_count": 3,
     "metadata": {},
     "output_type": "execute_result"
    }
   ],
   "source": [
    "unpickled_df.head()#iloc[154:196,:]"
   ]
  },
  {
   "cell_type": "code",
   "execution_count": 5,
   "metadata": {},
   "outputs": [
    {
     "name": "stdout",
     "output_type": "stream",
     "text": [
      "[21, 154, 188, 221, 271, 354, 438, 473, 508, 577]\n"
     ]
    }
   ],
   "source": [
    "# 找出字串中，屬於該名字patretn的人\n",
    "def find_all_indexes(input_str, search_str):\n",
    "    l1 = []\n",
    "    length = len(input_str)\n",
    "    index = 0\n",
    "    while index < length:\n",
    "        i = input_str.find(search_str, index)\n",
    "        if i == -1:\n",
    "            return l1\n",
    "        l1.append(i)\n",
    "        index = i + 1\n",
    "    return l1\n",
    "\n",
    "#示範\n",
    "s =unpickled_df.iloc[195].article\n",
    "print(find_all_indexes(s, '陳淳伍'))"
   ]
  },
  {
   "cell_type": "code",
   "execution_count": 31,
   "metadata": {},
   "outputs": [],
   "source": [
    "#need \n",
    "article_truncate = [] # 依據名字擷取的文章\n",
    "article_index = []  # 屬於哪篇文章的index\n",
    "article_tags = [] # 該人是否是黑名單\n",
    "article_tags_name = [] # 該人是誰\n",
    "for i in range(len(unpickled_df)):\n",
    "    article_len = len(unpickled_df.iloc[i].article)#.article_len\n",
    "    #文章內文\n",
    "    article_content = unpickled_df.iloc[i].article\n",
    "    # 找出共有幾個人\n",
    "    all_name_list = unpickled_df.iloc[i].all_name\n",
    "    for j in all_name_list: # 第i篇文章的第j個人\n",
    "        name_index = find_all_indexes(article_content, j )#出現在文章的index\n",
    "        for k in name_index:\n",
    "            if j in unpickled_df.iloc[i].name_list :\n",
    "                article_tags.append(1)\n",
    "            else:\n",
    "                article_tags.append(0)\n",
    "            article_tags_name.append(j)\n",
    "            txt = unpickled_df.iloc[i].article[  np.clip(k-min(100 , int(article_len*0.2))\n",
    "                                             , 0 ,999999\n",
    "                                                  )  : \n",
    "                                  np.clip(k-min(50 , int(article_len*0.2))\n",
    "                                             , 0 , 99999\n",
    "                                         )+290\n",
    "                                        ].replace( j , '李家賢') \n",
    "            article_truncate.append(txt)\n",
    "            article_index.append(i)"
   ]
  },
  {
   "cell_type": "code",
   "execution_count": 18,
   "metadata": {},
   "outputs": [],
   "source": [
    "lq= []\n",
    "for i in range(len(article_truncate)):\n",
    "    lq.append(len(article_truncate[i]))"
   ]
  },
  {
   "cell_type": "code",
   "execution_count": 19,
   "metadata": {},
   "outputs": [
    {
     "data": {
      "text/plain": [
       "299.57425775752296"
      ]
     },
     "execution_count": 19,
     "metadata": {},
     "output_type": "execute_result"
    }
   ],
   "source": [
    "np.mean(lq)"
   ]
  },
  {
   "cell_type": "code",
   "execution_count": 20,
   "metadata": {},
   "outputs": [],
   "source": [
    "# i= 195\n",
    "# article_truncate = [] # 依據名字擷取的文章\n",
    "# article_index = []  # 屬於哪篇文章的index\n",
    "# article_tags = [] # 該人是否是黑名單\n",
    "# article_tags_name = [] # 該人是誰\n",
    "# article_len = unpickled_df.iloc[i].article_len\n",
    "# #文章內文\n",
    "# article_content = unpickled_df.iloc[i].article\n",
    "# # 找出共有幾個人\n",
    "# all_name_list = unpickled_df.iloc[i].all_name\n",
    "# for j in all_name_list: # 第i篇文章的第j個人\n",
    "#     name_index = find_all_indexes(article_content, j )#出現在文章的index\n",
    "#     for k in name_index:\n",
    "#         if j in unpickled_df.iloc[i].name_list :\n",
    "#             article_tags.append(1)\n",
    "#         else:\n",
    "#             article_tags.append(0)\n",
    "#         article_tags_name.append(j)\n",
    "#         txt = unpickled_df.iloc[i].article[  np.clip(k-min(50 , int(article_len*0.2))\n",
    "#                                          , 0 ,999999\n",
    "#                                               )  : \n",
    "#                               np.clip(k-min(50 , int(article_len*0.2))\n",
    "#                                          , 0 , 99999\n",
    "#                                      )+100\n",
    "#                                     ].replace( j , '李家賢') \n",
    "#         article_truncate.append(txt)\n",
    "#         article_index.append(i)"
   ]
  },
  {
   "cell_type": "code",
   "execution_count": 32,
   "metadata": {},
   "outputs": [],
   "source": [
    "df = pd.DataFrame(data={'article_truncate':article_truncate,\n",
    "                  'article_index':article_index ,\n",
    "                  'article_tags':article_tags\n",
    "                  ,'article_tags_name':article_tags_name})"
   ]
  },
  {
   "cell_type": "code",
   "execution_count": 33,
   "metadata": {},
   "outputs": [
    {
     "data": {
      "text/html": [
       "<div>\n",
       "<style scoped>\n",
       "    .dataframe tbody tr th:only-of-type {\n",
       "        vertical-align: middle;\n",
       "    }\n",
       "\n",
       "    .dataframe tbody tr th {\n",
       "        vertical-align: top;\n",
       "    }\n",
       "\n",
       "    .dataframe thead th {\n",
       "        text-align: right;\n",
       "    }\n",
       "</style>\n",
       "<table border=\"1\" class=\"dataframe\">\n",
       "  <thead>\n",
       "    <tr style=\"text-align: right;\">\n",
       "      <th></th>\n",
       "      <th>article_truncate</th>\n",
       "      <th>article_index</th>\n",
       "      <th>article_tags</th>\n",
       "      <th>article_tags_name</th>\n",
       "    </tr>\n",
       "  </thead>\n",
       "  <tbody>\n",
       "    <tr>\n",
       "      <th>109</th>\n",
       "      <td>自稱房產幽默大師的李家賢，涉吸金捲款25億落跑！他自稱炒房專家，在全台授課分享理財，卻遭指控...</td>\n",
       "      <td>15</td>\n",
       "      <td>1</td>\n",
       "      <td>王派宏</td>\n",
       "    </tr>\n",
       "    <tr>\n",
       "      <th>110</th>\n",
       "      <td>自稱房產幽默大師的李家賢，涉吸金捲款25億落跑！他自稱炒房專家，在全台授課分享理財，卻遭指控...</td>\n",
       "      <td>15</td>\n",
       "      <td>1</td>\n",
       "      <td>王派宏</td>\n",
       "    </tr>\n",
       "    <tr>\n",
       "      <th>111</th>\n",
       "      <td>理財，卻遭指控，4月28號突然聯繫不上，也沒上課，顧問公司以為他發生危險立刻報案，但人卻已經...</td>\n",
       "      <td>15</td>\n",
       "      <td>1</td>\n",
       "      <td>王派宏</td>\n",
       "    </tr>\n",
       "    <tr>\n",
       "      <th>112</th>\n",
       "      <td>經捲款，急忙報警追人。自製youtube頻道，還自稱是房產幽默大師，他是李家賢，不只在網路分...</td>\n",
       "      <td>15</td>\n",
       "      <td>1</td>\n",
       "      <td>王派宏</td>\n",
       "    </tr>\n",
       "    <tr>\n",
       "      <th>113</th>\n",
       "      <td>3年都ok，都有如期拿到利息，的確有固定利息，從小金額100多萬，到後面越投越多，老師也一直...</td>\n",
       "      <td>15</td>\n",
       "      <td>1</td>\n",
       "      <td>王派宏</td>\n",
       "    </tr>\n",
       "    <tr>\n",
       "      <th>...</th>\n",
       "      <td>...</td>\n",
       "      <td>...</td>\n",
       "      <td>...</td>\n",
       "      <td>...</td>\n",
       "    </tr>\n",
       "    <tr>\n",
       "      <th>29638</th>\n",
       "      <td>也在台灣地區，並無任何海外資產，他還因病須固定到醫院回診，沒有不返台的可能，並提出桃園市議會...</td>\n",
       "      <td>4563</td>\n",
       "      <td>1</td>\n",
       "      <td>邱佳亮</td>\n",
       "    </tr>\n",
       "    <tr>\n",
       "      <th>29639</th>\n",
       "      <td>岸交流促進會參訪行程表（3月7日至3月11日）等為證據，請求暫時解除限制出境。高院法官調查，...</td>\n",
       "      <td>4563</td>\n",
       "      <td>1</td>\n",
       "      <td>邱佳亮</td>\n",
       "    </tr>\n",
       "    <tr>\n",
       "      <th>29640</th>\n",
       "      <td>00萬元交保及限制出境；一審認李家賢確實詐領補助費，判他有期徒刑12年6月，併科罰金120萬...</td>\n",
       "      <td>4563</td>\n",
       "      <td>1</td>\n",
       "      <td>邱佳亮</td>\n",
       "    </tr>\n",
       "    <tr>\n",
       "      <th>29722</th>\n",
       "      <td>前立委李家賢被控涉入機場捷運BOT案仲裁弊案，事後國稅局認為郭收受7000萬，涉逃稅加罰鍰迄...</td>\n",
       "      <td>4578</td>\n",
       "      <td>1</td>\n",
       "      <td>郭政權</td>\n",
       "    </tr>\n",
       "    <tr>\n",
       "      <th>29723</th>\n",
       "      <td>裁，事後高鐵局仲裁案敗訴，返還長生保證金及利息計9.7億，事後有2.2億元流向不明。特偵組接...</td>\n",
       "      <td>4578</td>\n",
       "      <td>1</td>\n",
       "      <td>郭政權</td>\n",
       "    </tr>\n",
       "  </tbody>\n",
       "</table>\n",
       "<p>2438 rows × 4 columns</p>\n",
       "</div>"
      ],
      "text/plain": [
       "                                        article_truncate  article_index  \\\n",
       "109    自稱房產幽默大師的李家賢，涉吸金捲款25億落跑！他自稱炒房專家，在全台授課分享理財，卻遭指控...             15   \n",
       "110    自稱房產幽默大師的李家賢，涉吸金捲款25億落跑！他自稱炒房專家，在全台授課分享理財，卻遭指控...             15   \n",
       "111    理財，卻遭指控，4月28號突然聯繫不上，也沒上課，顧問公司以為他發生危險立刻報案，但人卻已經...             15   \n",
       "112    經捲款，急忙報警追人。自製youtube頻道，還自稱是房產幽默大師，他是李家賢，不只在網路分...             15   \n",
       "113    3年都ok，都有如期拿到利息，的確有固定利息，從小金額100多萬，到後面越投越多，老師也一直...             15   \n",
       "...                                                  ...            ...   \n",
       "29638  也在台灣地區，並無任何海外資產，他還因病須固定到醫院回診，沒有不返台的可能，並提出桃園市議會...           4563   \n",
       "29639  岸交流促進會參訪行程表（3月7日至3月11日）等為證據，請求暫時解除限制出境。高院法官調查，...           4563   \n",
       "29640  00萬元交保及限制出境；一審認李家賢確實詐領補助費，判他有期徒刑12年6月，併科罰金120萬...           4563   \n",
       "29722  前立委李家賢被控涉入機場捷運BOT案仲裁弊案，事後國稅局認為郭收受7000萬，涉逃稅加罰鍰迄...           4578   \n",
       "29723  裁，事後高鐵局仲裁案敗訴，返還長生保證金及利息計9.7億，事後有2.2億元流向不明。特偵組接...           4578   \n",
       "\n",
       "       article_tags article_tags_name  \n",
       "109               1               王派宏  \n",
       "110               1               王派宏  \n",
       "111               1               王派宏  \n",
       "112               1               王派宏  \n",
       "113               1               王派宏  \n",
       "...             ...               ...  \n",
       "29638             1               邱佳亮  \n",
       "29639             1               邱佳亮  \n",
       "29640             1               邱佳亮  \n",
       "29722             1               郭政權  \n",
       "29723             1               郭政權  \n",
       "\n",
       "[2438 rows x 4 columns]"
      ]
     },
     "execution_count": 33,
     "metadata": {},
     "output_type": "execute_result"
    }
   ],
   "source": [
    "df[df.article_tags==1]"
   ]
  },
  {
   "cell_type": "code",
   "execution_count": 34,
   "metadata": {},
   "outputs": [
    {
     "data": {
      "text/plain": [
       "290"
      ]
     },
     "execution_count": 34,
     "metadata": {},
     "output_type": "execute_result"
    }
   ],
   "source": [
    "len(df.iloc[0].article_truncate)"
   ]
  },
  {
   "cell_type": "code",
   "execution_count": 36,
   "metadata": {},
   "outputs": [],
   "source": [
    "df.to_csv('step2_2_output_train_data_300.csv' , index=0)"
   ]
  },
  {
   "cell_type": "code",
   "execution_count": null,
   "metadata": {},
   "outputs": [],
   "source": [
    "# 以下測試"
   ]
  },
  {
   "cell_type": "code",
   "execution_count": null,
   "metadata": {},
   "outputs": [],
   "source": [
    "#df.to_csv('step2_train_data_300.csv' , index=0)"
   ]
  },
  {
   "cell_type": "code",
   "execution_count": 106,
   "metadata": {},
   "outputs": [],
   "source": [
    "df.to_csv('step2_train_data.csv' , index=0)"
   ]
  },
  {
   "cell_type": "code",
   "execution_count": 23,
   "metadata": {},
   "outputs": [],
   "source": [
    "df.to_csv('step2_train_data_300.csv' , index=0)"
   ]
  },
  {
   "cell_type": "code",
   "execution_count": 13,
   "metadata": {},
   "outputs": [],
   "source": [
    "df2 = pd.read_csv('step2_train_data_300.csv')"
   ]
  },
  {
   "cell_type": "code",
   "execution_count": 14,
   "metadata": {},
   "outputs": [
    {
     "data": {
      "text/html": [
       "<div>\n",
       "<style scoped>\n",
       "    .dataframe tbody tr th:only-of-type {\n",
       "        vertical-align: middle;\n",
       "    }\n",
       "\n",
       "    .dataframe tbody tr th {\n",
       "        vertical-align: top;\n",
       "    }\n",
       "\n",
       "    .dataframe thead th {\n",
       "        text-align: right;\n",
       "    }\n",
       "</style>\n",
       "<table border=\"1\" class=\"dataframe\">\n",
       "  <thead>\n",
       "    <tr style=\"text-align: right;\">\n",
       "      <th></th>\n",
       "      <th>article_truncate</th>\n",
       "      <th>article_index</th>\n",
       "      <th>article_tags</th>\n",
       "      <th>article_tags_name</th>\n",
       "    </tr>\n",
       "  </thead>\n",
       "  <tbody>\n",
       "    <tr>\n",
       "      <th>109</th>\n",
       "      <td>自稱房產幽默大師的李家賢，涉吸金捲款25億落跑！他自稱炒房專家，在全台授課分享理財，卻遭指控...</td>\n",
       "      <td>15</td>\n",
       "      <td>1</td>\n",
       "      <td>王派宏</td>\n",
       "    </tr>\n",
       "    <tr>\n",
       "      <th>110</th>\n",
       "      <td>自稱房產幽默大師的李家賢，涉吸金捲款25億落跑！他自稱炒房專家，在全台授課分享理財，卻遭指控...</td>\n",
       "      <td>15</td>\n",
       "      <td>1</td>\n",
       "      <td>王派宏</td>\n",
       "    </tr>\n",
       "    <tr>\n",
       "      <th>111</th>\n",
       "      <td>理財，卻遭指控，4月28號突然聯繫不上，也沒上課，顧問公司以為他發生危險立刻報案，但人卻已經...</td>\n",
       "      <td>15</td>\n",
       "      <td>1</td>\n",
       "      <td>王派宏</td>\n",
       "    </tr>\n",
       "    <tr>\n",
       "      <th>112</th>\n",
       "      <td>經捲款，急忙報警追人。自製youtube頻道，還自稱是房產幽默大師，他是李家賢，不只在網路分...</td>\n",
       "      <td>15</td>\n",
       "      <td>1</td>\n",
       "      <td>王派宏</td>\n",
       "    </tr>\n",
       "    <tr>\n",
       "      <th>113</th>\n",
       "      <td>3年都ok，都有如期拿到利息，的確有固定利息，從小金額100多萬，到後面越投越多，老師也一直...</td>\n",
       "      <td>15</td>\n",
       "      <td>1</td>\n",
       "      <td>王派宏</td>\n",
       "    </tr>\n",
       "    <tr>\n",
       "      <th>...</th>\n",
       "      <td>...</td>\n",
       "      <td>...</td>\n",
       "      <td>...</td>\n",
       "      <td>...</td>\n",
       "    </tr>\n",
       "    <tr>\n",
       "      <th>29638</th>\n",
       "      <td>也在台灣地區，並無任何海外資產，他還因病須固定到醫院回診，沒有不返台的可能，並提出桃園市議會...</td>\n",
       "      <td>4563</td>\n",
       "      <td>1</td>\n",
       "      <td>邱佳亮</td>\n",
       "    </tr>\n",
       "    <tr>\n",
       "      <th>29639</th>\n",
       "      <td>岸交流促進會參訪行程表（3月7日至3月11日）等為證據，請求暫時解除限制出境。高院法官調查，...</td>\n",
       "      <td>4563</td>\n",
       "      <td>1</td>\n",
       "      <td>邱佳亮</td>\n",
       "    </tr>\n",
       "    <tr>\n",
       "      <th>29640</th>\n",
       "      <td>00萬元交保及限制出境；一審認李家賢確實詐領補助費，判他有期徒刑12年6月，併科罰金120萬...</td>\n",
       "      <td>4563</td>\n",
       "      <td>1</td>\n",
       "      <td>邱佳亮</td>\n",
       "    </tr>\n",
       "    <tr>\n",
       "      <th>29724</th>\n",
       "      <td>前立委李家賢被控涉入機場捷運BOT案仲裁弊案，事後國稅局認為郭收受7000萬，涉逃稅加罰鍰迄...</td>\n",
       "      <td>4578</td>\n",
       "      <td>1</td>\n",
       "      <td>郭政權</td>\n",
       "    </tr>\n",
       "    <tr>\n",
       "      <th>29725</th>\n",
       "      <td>裁，事後高鐵局仲裁案敗訴，返還長生保證金及利息計9.7億，事後有2.2億元流向不明。特偵組接...</td>\n",
       "      <td>4578</td>\n",
       "      <td>1</td>\n",
       "      <td>郭政權</td>\n",
       "    </tr>\n",
       "  </tbody>\n",
       "</table>\n",
       "<p>2438 rows × 4 columns</p>\n",
       "</div>"
      ],
      "text/plain": [
       "                                        article_truncate  article_index  \\\n",
       "109    自稱房產幽默大師的李家賢，涉吸金捲款25億落跑！他自稱炒房專家，在全台授課分享理財，卻遭指控...             15   \n",
       "110    自稱房產幽默大師的李家賢，涉吸金捲款25億落跑！他自稱炒房專家，在全台授課分享理財，卻遭指控...             15   \n",
       "111    理財，卻遭指控，4月28號突然聯繫不上，也沒上課，顧問公司以為他發生危險立刻報案，但人卻已經...             15   \n",
       "112    經捲款，急忙報警追人。自製youtube頻道，還自稱是房產幽默大師，他是李家賢，不只在網路分...             15   \n",
       "113    3年都ok，都有如期拿到利息，的確有固定利息，從小金額100多萬，到後面越投越多，老師也一直...             15   \n",
       "...                                                  ...            ...   \n",
       "29638  也在台灣地區，並無任何海外資產，他還因病須固定到醫院回診，沒有不返台的可能，並提出桃園市議會...           4563   \n",
       "29639  岸交流促進會參訪行程表（3月7日至3月11日）等為證據，請求暫時解除限制出境。高院法官調查，...           4563   \n",
       "29640  00萬元交保及限制出境；一審認李家賢確實詐領補助費，判他有期徒刑12年6月，併科罰金120萬...           4563   \n",
       "29724  前立委李家賢被控涉入機場捷運BOT案仲裁弊案，事後國稅局認為郭收受7000萬，涉逃稅加罰鍰迄...           4578   \n",
       "29725  裁，事後高鐵局仲裁案敗訴，返還長生保證金及利息計9.7億，事後有2.2億元流向不明。特偵組接...           4578   \n",
       "\n",
       "       article_tags article_tags_name  \n",
       "109               1               王派宏  \n",
       "110               1               王派宏  \n",
       "111               1               王派宏  \n",
       "112               1               王派宏  \n",
       "113               1               王派宏  \n",
       "...             ...               ...  \n",
       "29638             1               邱佳亮  \n",
       "29639             1               邱佳亮  \n",
       "29640             1               邱佳亮  \n",
       "29724             1               郭政權  \n",
       "29725             1               郭政權  \n",
       "\n",
       "[2438 rows x 4 columns]"
      ]
     },
     "execution_count": 14,
     "metadata": {},
     "output_type": "execute_result"
    }
   ],
   "source": [
    "df2[df2.article_tags==1]"
   ]
  },
  {
   "cell_type": "code",
   "execution_count": 83,
   "metadata": {},
   "outputs": [
    {
     "data": {
      "text/plain": [
       "['陳淳伍']"
      ]
     },
     "execution_count": 83,
     "metadata": {},
     "output_type": "execute_result"
    }
   ],
   "source": [
    "unpickled_df.iloc[195].name_list                                  "
   ]
  },
  {
   "cell_type": "code",
   "execution_count": 91,
   "metadata": {},
   "outputs": [
    {
     "data": {
      "text/plain": [
       "10"
      ]
     },
     "execution_count": 91,
     "metadata": {},
     "output_type": "execute_result"
    }
   ],
   "source": [
    "min(np.array([50,10]))"
   ]
  },
  {
   "cell_type": "code",
   "execution_count": null,
   "metadata": {},
   "outputs": [],
   "source": []
  }
 ],
 "metadata": {
  "kernelspec": {
   "display_name": "Python 3",
   "language": "python",
   "name": "python3"
  },
  "language_info": {
   "codemirror_mode": {
    "name": "ipython",
    "version": 3
   },
   "file_extension": ".py",
   "mimetype": "text/x-python",
   "name": "python",
   "nbconvert_exporter": "python",
   "pygments_lexer": "ipython3",
   "version": "3.6.10"
  }
 },
 "nbformat": 4,
 "nbformat_minor": 4
}
